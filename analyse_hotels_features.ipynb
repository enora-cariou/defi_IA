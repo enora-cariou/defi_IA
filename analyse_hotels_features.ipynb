{
 "cells": [
  {
   "cell_type": "markdown",
   "metadata": {},
   "source": [
    "# Analyse hotels_features"
   ]
  },
  {
   "cell_type": "markdown",
   "metadata": {},
   "source": [
    "Pour savoir quelles requêtes pourraient avoir le plus d'importance dans l'entraînement de notre modèle, nous parcourons rapidement les caractéristiques du fichier features_hotels.csv contenant, comme son nom l'indique, les features des hôtels de la base de données."
   ]
  },
  {
   "cell_type": "code",
   "execution_count": 1,
   "metadata": {},
   "outputs": [],
   "source": [
    "import pandas as pd\n",
    "import matplotlib.pyplot as plt\n",
    "import numpy\n",
    "import scipy\n",
    "import sklearn"
   ]
  },
  {
   "cell_type": "code",
   "execution_count": 5,
   "metadata": {},
   "outputs": [],
   "source": [
    "hotels_features=pd.read_csv('features_hotels.csv')"
   ]
  },
  {
   "cell_type": "code",
   "execution_count": 7,
   "metadata": {},
   "outputs": [
    {
     "data": {
      "text/html": [
       "<div>\n",
       "<style scoped>\n",
       "    .dataframe tbody tr th:only-of-type {\n",
       "        vertical-align: middle;\n",
       "    }\n",
       "\n",
       "    .dataframe tbody tr th {\n",
       "        vertical-align: top;\n",
       "    }\n",
       "\n",
       "    .dataframe thead th {\n",
       "        text-align: right;\n",
       "    }\n",
       "</style>\n",
       "<table border=\"1\" class=\"dataframe\">\n",
       "  <thead>\n",
       "    <tr style=\"text-align: right;\">\n",
       "      <th></th>\n",
       "      <th>hotel_id</th>\n",
       "      <th>group</th>\n",
       "      <th>brand</th>\n",
       "      <th>city</th>\n",
       "      <th>parking</th>\n",
       "      <th>pool</th>\n",
       "      <th>children_policy</th>\n",
       "    </tr>\n",
       "  </thead>\n",
       "  <tbody>\n",
       "    <tr>\n",
       "      <th>0</th>\n",
       "      <td>0</td>\n",
       "      <td>Yin Yang</td>\n",
       "      <td>Royal Lotus</td>\n",
       "      <td>paris</td>\n",
       "      <td>1</td>\n",
       "      <td>0</td>\n",
       "      <td>1</td>\n",
       "    </tr>\n",
       "    <tr>\n",
       "      <th>1</th>\n",
       "      <td>1</td>\n",
       "      <td>Independant</td>\n",
       "      <td>Independant</td>\n",
       "      <td>copenhagen</td>\n",
       "      <td>1</td>\n",
       "      <td>0</td>\n",
       "      <td>0</td>\n",
       "    </tr>\n",
       "    <tr>\n",
       "      <th>2</th>\n",
       "      <td>2</td>\n",
       "      <td>Independant</td>\n",
       "      <td>Independant</td>\n",
       "      <td>madrid</td>\n",
       "      <td>0</td>\n",
       "      <td>0</td>\n",
       "      <td>0</td>\n",
       "    </tr>\n",
       "    <tr>\n",
       "      <th>3</th>\n",
       "      <td>3</td>\n",
       "      <td>Independant</td>\n",
       "      <td>Independant</td>\n",
       "      <td>rome</td>\n",
       "      <td>1</td>\n",
       "      <td>0</td>\n",
       "      <td>0</td>\n",
       "    </tr>\n",
       "    <tr>\n",
       "      <th>4</th>\n",
       "      <td>4</td>\n",
       "      <td>Independant</td>\n",
       "      <td>Independant</td>\n",
       "      <td>sofia</td>\n",
       "      <td>1</td>\n",
       "      <td>0</td>\n",
       "      <td>0</td>\n",
       "    </tr>\n",
       "  </tbody>\n",
       "</table>\n",
       "</div>"
      ],
      "text/plain": [
       "   hotel_id        group        brand        city  parking  pool  \\\n",
       "0         0     Yin Yang  Royal Lotus       paris        1     0   \n",
       "1         1  Independant  Independant  copenhagen        1     0   \n",
       "2         2  Independant  Independant      madrid        0     0   \n",
       "3         3  Independant  Independant        rome        1     0   \n",
       "4         4  Independant  Independant       sofia        1     0   \n",
       "\n",
       "   children_policy  \n",
       "0                1  \n",
       "1                0  \n",
       "2                0  \n",
       "3                0  \n",
       "4                0  "
      ]
     },
     "execution_count": 7,
     "metadata": {},
     "output_type": "execute_result"
    }
   ],
   "source": [
    "hotels_features.head()"
   ]
  },
  {
   "cell_type": "code",
   "execution_count": 17,
   "metadata": {},
   "outputs": [
    {
     "data": {
      "text/plain": [
       "(999, 7)"
      ]
     },
     "execution_count": 17,
     "metadata": {},
     "output_type": "execute_result"
    }
   ],
   "source": [
    "hotels_features.shape"
   ]
  },
  {
   "cell_type": "code",
   "execution_count": 13,
   "metadata": {},
   "outputs": [
    {
     "data": {
      "text/plain": [
       "6993"
      ]
     },
     "execution_count": 13,
     "metadata": {},
     "output_type": "execute_result"
    }
   ],
   "source": [
    "hotels_features.size"
   ]
  },
  {
   "cell_type": "code",
   "execution_count": 22,
   "metadata": {},
   "outputs": [
    {
     "data": {
      "text/html": [
       "<div>\n",
       "<style scoped>\n",
       "    .dataframe tbody tr th:only-of-type {\n",
       "        vertical-align: middle;\n",
       "    }\n",
       "\n",
       "    .dataframe tbody tr th {\n",
       "        vertical-align: top;\n",
       "    }\n",
       "\n",
       "    .dataframe thead th {\n",
       "        text-align: right;\n",
       "    }\n",
       "</style>\n",
       "<table border=\"1\" class=\"dataframe\">\n",
       "  <thead>\n",
       "    <tr style=\"text-align: right;\">\n",
       "      <th></th>\n",
       "      <th>hotel_id</th>\n",
       "      <th>parking</th>\n",
       "      <th>pool</th>\n",
       "      <th>children_policy</th>\n",
       "    </tr>\n",
       "  </thead>\n",
       "  <tbody>\n",
       "    <tr>\n",
       "      <th>count</th>\n",
       "      <td>999.000000</td>\n",
       "      <td>999.000000</td>\n",
       "      <td>999.000000</td>\n",
       "      <td>999.000000</td>\n",
       "    </tr>\n",
       "    <tr>\n",
       "      <th>mean</th>\n",
       "      <td>499.000000</td>\n",
       "      <td>0.442442</td>\n",
       "      <td>0.169169</td>\n",
       "      <td>0.067067</td>\n",
       "    </tr>\n",
       "    <tr>\n",
       "      <th>std</th>\n",
       "      <td>288.530761</td>\n",
       "      <td>0.496925</td>\n",
       "      <td>0.375089</td>\n",
       "      <td>0.304453</td>\n",
       "    </tr>\n",
       "    <tr>\n",
       "      <th>min</th>\n",
       "      <td>0.000000</td>\n",
       "      <td>0.000000</td>\n",
       "      <td>0.000000</td>\n",
       "      <td>0.000000</td>\n",
       "    </tr>\n",
       "    <tr>\n",
       "      <th>25%</th>\n",
       "      <td>249.500000</td>\n",
       "      <td>0.000000</td>\n",
       "      <td>0.000000</td>\n",
       "      <td>0.000000</td>\n",
       "    </tr>\n",
       "    <tr>\n",
       "      <th>50%</th>\n",
       "      <td>499.000000</td>\n",
       "      <td>0.000000</td>\n",
       "      <td>0.000000</td>\n",
       "      <td>0.000000</td>\n",
       "    </tr>\n",
       "    <tr>\n",
       "      <th>75%</th>\n",
       "      <td>748.500000</td>\n",
       "      <td>1.000000</td>\n",
       "      <td>0.000000</td>\n",
       "      <td>0.000000</td>\n",
       "    </tr>\n",
       "    <tr>\n",
       "      <th>max</th>\n",
       "      <td>998.000000</td>\n",
       "      <td>1.000000</td>\n",
       "      <td>1.000000</td>\n",
       "      <td>2.000000</td>\n",
       "    </tr>\n",
       "  </tbody>\n",
       "</table>\n",
       "</div>"
      ],
      "text/plain": [
       "         hotel_id     parking        pool  children_policy\n",
       "count  999.000000  999.000000  999.000000       999.000000\n",
       "mean   499.000000    0.442442    0.169169         0.067067\n",
       "std    288.530761    0.496925    0.375089         0.304453\n",
       "min      0.000000    0.000000    0.000000         0.000000\n",
       "25%    249.500000    0.000000    0.000000         0.000000\n",
       "50%    499.000000    0.000000    0.000000         0.000000\n",
       "75%    748.500000    1.000000    0.000000         0.000000\n",
       "max    998.000000    1.000000    1.000000         2.000000"
      ]
     },
     "execution_count": 22,
     "metadata": {},
     "output_type": "execute_result"
    }
   ],
   "source": [
    "hotels_features.describe()"
   ]
  },
  {
   "cell_type": "markdown",
   "metadata": {},
   "source": [
    "Au moins 75% des hotels n'ont pas de piscine et pas de children_policy."
   ]
  },
  {
   "cell_type": "code",
   "execution_count": 24,
   "metadata": {},
   "outputs": [
    {
     "data": {
      "image/png": "[encoded data removed]",
      "text/plain": [
       "<Figure size 1440x1080 with 4 Axes>"
      ]
     },
     "metadata": {
      "needs_background": "light"
     },
     "output_type": "display_data"
    }
   ],
   "source": [
    "hotels_features.hist(bins=10,figsize=(20,15))\n",
    "plt.show()"
   ]
  },
  {
   "cell_type": "code",
   "execution_count": 36,
   "metadata": {},
   "outputs": [
    {
     "data": {
      "text/plain": [
       "6993"
      ]
     },
     "execution_count": 36,
     "metadata": {},
     "output_type": "execute_result"
    }
   ],
   "source": [
    "hotels_features.dropna().size"
   ]
  },
  {
   "cell_type": "markdown",
   "metadata": {},
   "source": [
    "### Analyse par ville :"
   ]
  },
  {
   "cell_type": "code",
   "execution_count": 59,
   "metadata": {},
   "outputs": [],
   "source": [
    "dict_city=hotels_features.groupby('city')"
   ]
  },
  {
   "cell_type": "code",
   "execution_count": 60,
   "metadata": {},
   "outputs": [
    {
     "data": {
      "text/plain": [
       "dict_keys(['amsterdam', 'copenhagen', 'madrid', 'paris', 'rome', 'sofia', 'valletta', 'vienna', 'vilnius'])"
      ]
     },
     "execution_count": 60,
     "metadata": {},
     "output_type": "execute_result"
    }
   ],
   "source": [
    "dict_city.groups.keys()"
   ]
  },
  {
   "cell_type": "code",
   "execution_count": 65,
   "metadata": {},
   "outputs": [
    {
     "data": {
      "text/plain": [
       "city\n",
       "amsterdam     135\n",
       "copenhagen    144\n",
       "madrid        118\n",
       "paris         167\n",
       "rome          129\n",
       "sofia          56\n",
       "valletta       48\n",
       "vienna        106\n",
       "vilnius        96\n",
       "Name: hotel_id, dtype: int64"
      ]
     },
     "execution_count": 65,
     "metadata": {},
     "output_type": "execute_result"
    }
   ],
   "source": [
    "dict_city.hotel_id.count()"
   ]
  },
  {
   "cell_type": "code",
   "execution_count": 66,
   "metadata": {},
   "outputs": [
    {
     "data": {
      "text/html": [
       "<div>\n",
       "<style scoped>\n",
       "    .dataframe tbody tr th:only-of-type {\n",
       "        vertical-align: middle;\n",
       "    }\n",
       "\n",
       "    .dataframe tbody tr th {\n",
       "        vertical-align: top;\n",
       "    }\n",
       "\n",
       "    .dataframe thead tr th {\n",
       "        text-align: left;\n",
       "    }\n",
       "\n",
       "    .dataframe thead tr:last-of-type th {\n",
       "        text-align: right;\n",
       "    }\n",
       "</style>\n",
       "<table border=\"1\" class=\"dataframe\">\n",
       "  <thead>\n",
       "    <tr>\n",
       "      <th></th>\n",
       "      <th colspan=\"8\" halign=\"left\">hotel_id</th>\n",
       "      <th colspan=\"2\" halign=\"left\">parking</th>\n",
       "      <th>...</th>\n",
       "      <th colspan=\"2\" halign=\"left\">pool</th>\n",
       "      <th colspan=\"8\" halign=\"left\">children_policy</th>\n",
       "    </tr>\n",
       "    <tr>\n",
       "      <th></th>\n",
       "      <th>count</th>\n",
       "      <th>mean</th>\n",
       "      <th>std</th>\n",
       "      <th>min</th>\n",
       "      <th>25%</th>\n",
       "      <th>50%</th>\n",
       "      <th>75%</th>\n",
       "      <th>max</th>\n",
       "      <th>count</th>\n",
       "      <th>mean</th>\n",
       "      <th>...</th>\n",
       "      <th>75%</th>\n",
       "      <th>max</th>\n",
       "      <th>count</th>\n",
       "      <th>mean</th>\n",
       "      <th>std</th>\n",
       "      <th>min</th>\n",
       "      <th>25%</th>\n",
       "      <th>50%</th>\n",
       "      <th>75%</th>\n",
       "      <th>max</th>\n",
       "    </tr>\n",
       "    <tr>\n",
       "      <th>city</th>\n",
       "      <th></th>\n",
       "      <th></th>\n",
       "      <th></th>\n",
       "      <th></th>\n",
       "      <th></th>\n",
       "      <th></th>\n",
       "      <th></th>\n",
       "      <th></th>\n",
       "      <th></th>\n",
       "      <th></th>\n",
       "      <th></th>\n",
       "      <th></th>\n",
       "      <th></th>\n",
       "      <th></th>\n",
       "      <th></th>\n",
       "      <th></th>\n",
       "      <th></th>\n",
       "      <th></th>\n",
       "      <th></th>\n",
       "      <th></th>\n",
       "      <th></th>\n",
       "    </tr>\n",
       "  </thead>\n",
       "  <tbody>\n",
       "    <tr>\n",
       "      <th>amsterdam</th>\n",
       "      <td>135.0</td>\n",
       "      <td>477.777778</td>\n",
       "      <td>286.648484</td>\n",
       "      <td>9.0</td>\n",
       "      <td>220.50</td>\n",
       "      <td>482.0</td>\n",
       "      <td>719.50</td>\n",
       "      <td>971.0</td>\n",
       "      <td>135.0</td>\n",
       "      <td>0.466667</td>\n",
       "      <td>...</td>\n",
       "      <td>0.0</td>\n",
       "      <td>1.0</td>\n",
       "      <td>135.0</td>\n",
       "      <td>0.074074</td>\n",
       "      <td>0.314563</td>\n",
       "      <td>0.0</td>\n",
       "      <td>0.0</td>\n",
       "      <td>0.0</td>\n",
       "      <td>0.0</td>\n",
       "      <td>2.0</td>\n",
       "    </tr>\n",
       "    <tr>\n",
       "      <th>copenhagen</th>\n",
       "      <td>144.0</td>\n",
       "      <td>537.951389</td>\n",
       "      <td>292.334020</td>\n",
       "      <td>1.0</td>\n",
       "      <td>326.50</td>\n",
       "      <td>535.5</td>\n",
       "      <td>796.00</td>\n",
       "      <td>995.0</td>\n",
       "      <td>144.0</td>\n",
       "      <td>0.437500</td>\n",
       "      <td>...</td>\n",
       "      <td>0.0</td>\n",
       "      <td>1.0</td>\n",
       "      <td>144.0</td>\n",
       "      <td>0.104167</td>\n",
       "      <td>0.421764</td>\n",
       "      <td>0.0</td>\n",
       "      <td>0.0</td>\n",
       "      <td>0.0</td>\n",
       "      <td>0.0</td>\n",
       "      <td>2.0</td>\n",
       "    </tr>\n",
       "    <tr>\n",
       "      <th>madrid</th>\n",
       "      <td>118.0</td>\n",
       "      <td>476.474576</td>\n",
       "      <td>291.585431</td>\n",
       "      <td>2.0</td>\n",
       "      <td>236.50</td>\n",
       "      <td>441.5</td>\n",
       "      <td>736.00</td>\n",
       "      <td>997.0</td>\n",
       "      <td>118.0</td>\n",
       "      <td>0.423729</td>\n",
       "      <td>...</td>\n",
       "      <td>0.0</td>\n",
       "      <td>1.0</td>\n",
       "      <td>118.0</td>\n",
       "      <td>0.042373</td>\n",
       "      <td>0.202297</td>\n",
       "      <td>0.0</td>\n",
       "      <td>0.0</td>\n",
       "      <td>0.0</td>\n",
       "      <td>0.0</td>\n",
       "      <td>1.0</td>\n",
       "    </tr>\n",
       "    <tr>\n",
       "      <th>paris</th>\n",
       "      <td>167.0</td>\n",
       "      <td>513.928144</td>\n",
       "      <td>299.248629</td>\n",
       "      <td>0.0</td>\n",
       "      <td>243.00</td>\n",
       "      <td>560.0</td>\n",
       "      <td>783.50</td>\n",
       "      <td>998.0</td>\n",
       "      <td>167.0</td>\n",
       "      <td>0.425150</td>\n",
       "      <td>...</td>\n",
       "      <td>0.0</td>\n",
       "      <td>1.0</td>\n",
       "      <td>167.0</td>\n",
       "      <td>0.077844</td>\n",
       "      <td>0.290285</td>\n",
       "      <td>0.0</td>\n",
       "      <td>0.0</td>\n",
       "      <td>0.0</td>\n",
       "      <td>0.0</td>\n",
       "      <td>2.0</td>\n",
       "    </tr>\n",
       "    <tr>\n",
       "      <th>rome</th>\n",
       "      <td>129.0</td>\n",
       "      <td>533.294574</td>\n",
       "      <td>269.360655</td>\n",
       "      <td>3.0</td>\n",
       "      <td>324.00</td>\n",
       "      <td>550.0</td>\n",
       "      <td>763.00</td>\n",
       "      <td>993.0</td>\n",
       "      <td>129.0</td>\n",
       "      <td>0.449612</td>\n",
       "      <td>...</td>\n",
       "      <td>0.0</td>\n",
       "      <td>1.0</td>\n",
       "      <td>129.0</td>\n",
       "      <td>0.077519</td>\n",
       "      <td>0.344882</td>\n",
       "      <td>0.0</td>\n",
       "      <td>0.0</td>\n",
       "      <td>0.0</td>\n",
       "      <td>0.0</td>\n",
       "      <td>2.0</td>\n",
       "    </tr>\n",
       "    <tr>\n",
       "      <th>sofia</th>\n",
       "      <td>56.0</td>\n",
       "      <td>476.821429</td>\n",
       "      <td>285.718113</td>\n",
       "      <td>4.0</td>\n",
       "      <td>206.75</td>\n",
       "      <td>507.0</td>\n",
       "      <td>669.50</td>\n",
       "      <td>984.0</td>\n",
       "      <td>56.0</td>\n",
       "      <td>0.392857</td>\n",
       "      <td>...</td>\n",
       "      <td>0.0</td>\n",
       "      <td>1.0</td>\n",
       "      <td>56.0</td>\n",
       "      <td>0.000000</td>\n",
       "      <td>0.000000</td>\n",
       "      <td>0.0</td>\n",
       "      <td>0.0</td>\n",
       "      <td>0.0</td>\n",
       "      <td>0.0</td>\n",
       "      <td>0.0</td>\n",
       "    </tr>\n",
       "    <tr>\n",
       "      <th>valletta</th>\n",
       "      <td>48.0</td>\n",
       "      <td>501.479167</td>\n",
       "      <td>253.567649</td>\n",
       "      <td>55.0</td>\n",
       "      <td>331.75</td>\n",
       "      <td>478.0</td>\n",
       "      <td>718.25</td>\n",
       "      <td>988.0</td>\n",
       "      <td>48.0</td>\n",
       "      <td>0.500000</td>\n",
       "      <td>...</td>\n",
       "      <td>0.0</td>\n",
       "      <td>1.0</td>\n",
       "      <td>48.0</td>\n",
       "      <td>0.020833</td>\n",
       "      <td>0.144338</td>\n",
       "      <td>0.0</td>\n",
       "      <td>0.0</td>\n",
       "      <td>0.0</td>\n",
       "      <td>0.0</td>\n",
       "      <td>1.0</td>\n",
       "    </tr>\n",
       "    <tr>\n",
       "      <th>vienna</th>\n",
       "      <td>106.0</td>\n",
       "      <td>478.660377</td>\n",
       "      <td>301.018078</td>\n",
       "      <td>8.0</td>\n",
       "      <td>221.50</td>\n",
       "      <td>456.5</td>\n",
       "      <td>710.75</td>\n",
       "      <td>996.0</td>\n",
       "      <td>106.0</td>\n",
       "      <td>0.443396</td>\n",
       "      <td>...</td>\n",
       "      <td>0.0</td>\n",
       "      <td>1.0</td>\n",
       "      <td>106.0</td>\n",
       "      <td>0.056604</td>\n",
       "      <td>0.270104</td>\n",
       "      <td>0.0</td>\n",
       "      <td>0.0</td>\n",
       "      <td>0.0</td>\n",
       "      <td>0.0</td>\n",
       "      <td>2.0</td>\n",
       "    </tr>\n",
       "    <tr>\n",
       "      <th>vilnius</th>\n",
       "      <td>96.0</td>\n",
       "      <td>460.208333</td>\n",
       "      <td>289.866936</td>\n",
       "      <td>5.0</td>\n",
       "      <td>197.75</td>\n",
       "      <td>456.0</td>\n",
       "      <td>667.75</td>\n",
       "      <td>976.0</td>\n",
       "      <td>96.0</td>\n",
       "      <td>0.458333</td>\n",
       "      <td>...</td>\n",
       "      <td>0.0</td>\n",
       "      <td>1.0</td>\n",
       "      <td>96.0</td>\n",
       "      <td>0.072917</td>\n",
       "      <td>0.332290</td>\n",
       "      <td>0.0</td>\n",
       "      <td>0.0</td>\n",
       "      <td>0.0</td>\n",
       "      <td>0.0</td>\n",
       "      <td>2.0</td>\n",
       "    </tr>\n",
       "  </tbody>\n",
       "</table>\n",
       "<p>9 rows × 32 columns</p>\n",
       "</div>"
      ],
      "text/plain": [
       "           hotel_id                                                       \\\n",
       "              count        mean         std   min     25%    50%     75%   \n",
       "city                                                                       \n",
       "amsterdam     135.0  477.777778  286.648484   9.0  220.50  482.0  719.50   \n",
       "copenhagen    144.0  537.951389  292.334020   1.0  326.50  535.5  796.00   \n",
       "madrid        118.0  476.474576  291.585431   2.0  236.50  441.5  736.00   \n",
       "paris         167.0  513.928144  299.248629   0.0  243.00  560.0  783.50   \n",
       "rome          129.0  533.294574  269.360655   3.0  324.00  550.0  763.00   \n",
       "sofia          56.0  476.821429  285.718113   4.0  206.75  507.0  669.50   \n",
       "valletta       48.0  501.479167  253.567649  55.0  331.75  478.0  718.25   \n",
       "vienna        106.0  478.660377  301.018078   8.0  221.50  456.5  710.75   \n",
       "vilnius        96.0  460.208333  289.866936   5.0  197.75  456.0  667.75   \n",
       "\n",
       "                  parking            ... pool      children_policy            \\\n",
       "              max   count      mean  ...  75%  max           count      mean   \n",
       "city                                 ...                                       \n",
       "amsterdam   971.0   135.0  0.466667  ...  0.0  1.0           135.0  0.074074   \n",
       "copenhagen  995.0   144.0  0.437500  ...  0.0  1.0           144.0  0.104167   \n",
       "madrid      997.0   118.0  0.423729  ...  0.0  1.0           118.0  0.042373   \n",
       "paris       998.0   167.0  0.425150  ...  0.0  1.0           167.0  0.077844   \n",
       "rome        993.0   129.0  0.449612  ...  0.0  1.0           129.0  0.077519   \n",
       "sofia       984.0    56.0  0.392857  ...  0.0  1.0            56.0  0.000000   \n",
       "valletta    988.0    48.0  0.500000  ...  0.0  1.0            48.0  0.020833   \n",
       "vienna      996.0   106.0  0.443396  ...  0.0  1.0           106.0  0.056604   \n",
       "vilnius     976.0    96.0  0.458333  ...  0.0  1.0            96.0  0.072917   \n",
       "\n",
       "                                               \n",
       "                 std  min  25%  50%  75%  max  \n",
       "city                                           \n",
       "amsterdam   0.314563  0.0  0.0  0.0  0.0  2.0  \n",
       "copenhagen  0.421764  0.0  0.0  0.0  0.0  2.0  \n",
       "madrid      0.202297  0.0  0.0  0.0  0.0  1.0  \n",
       "paris       0.290285  0.0  0.0  0.0  0.0  2.0  \n",
       "rome        0.344882  0.0  0.0  0.0  0.0  2.0  \n",
       "sofia       0.000000  0.0  0.0  0.0  0.0  0.0  \n",
       "valletta    0.144338  0.0  0.0  0.0  0.0  1.0  \n",
       "vienna      0.270104  0.0  0.0  0.0  0.0  2.0  \n",
       "vilnius     0.332290  0.0  0.0  0.0  0.0  2.0  \n",
       "\n",
       "[9 rows x 32 columns]"
      ]
     },
     "execution_count": 66,
     "metadata": {},
     "output_type": "execute_result"
    }
   ],
   "source": [
    "dict_city.describe()"
   ]
  },
  {
   "cell_type": "code",
   "execution_count": 83,
   "metadata": {},
   "outputs": [
    {
     "data": {
      "image/png": "[encoded data removed]",
      "text/plain": [
       "<Figure size 1440x1080 with 4 Axes>"
      ]
     },
     "metadata": {
      "needs_background": "light"
     },
     "output_type": "display_data"
    }
   ],
   "source": [
    "hotels_par=hotels_features.loc[hotels_features.city == 'paris']\n",
    "hotels_par.hist(bins=10,figsize=(20,15))\n",
    "plt.show()"
   ]
  },
  {
   "cell_type": "code",
   "execution_count": 81,
   "metadata": {},
   "outputs": [
    {
     "data": {
      "image/png": "[encoded data removed]",
      "text/plain": [
       "<Figure size 1440x1080 with 4 Axes>"
      ]
     },
     "metadata": {
      "needs_background": "light"
     },
     "output_type": "display_data"
    }
   ],
   "source": [
    "hotels_ams=hotels_features.loc[hotels_features.city == 'amsterdam']\n",
    "hotels_ams.hist(bins=10,figsize=(20,15))\n",
    "plt.show()"
   ]
  },
  {
   "cell_type": "code",
   "execution_count": 82,
   "metadata": {},
   "outputs": [
    {
     "data": {
      "image/png": "[encoded data removed]",
      "text/plain": [
       "<Figure size 1440x1080 with 4 Axes>"
      ]
     },
     "metadata": {
      "needs_background": "light"
     },
     "output_type": "display_data"
    }
   ],
   "source": [
    "hotels_vil=hotels_features.loc[hotels_features.city == 'vilnius']\n",
    "hotels_vil.hist(bins=10,figsize=(20,15))\n",
    "plt.show()"
   ]
  },
  {
   "cell_type": "markdown",
   "metadata": {},
   "source": [
    "##### Test LabelEncoder"
   ]
  },
  {
   "cell_type": "code",
   "execution_count": 38,
   "metadata": {},
   "outputs": [],
   "source": [
    "from sklearn.preprocessing import LabelEncoder\n",
    "encoder = LabelEncoder()\n",
    "hotels_city = hotels_features[\"city\"]\n",
    "hotels_city_encoded = encoder.fit_transform(hotels_city)\n",
    "#hotels_city_encoded"
   ]
  },
  {
   "cell_type": "code",
   "execution_count": 39,
   "metadata": {},
   "outputs": [
    {
     "name": "stdout",
     "output_type": "stream",
     "text": [
      "['amsterdam' 'copenhagen' 'madrid' 'paris' 'rome' 'sofia' 'valletta'\n",
      " 'vienna' 'vilnius']\n"
     ]
    }
   ],
   "source": [
    "print(encoder.classes_)"
   ]
  },
  {
   "cell_type": "markdown",
   "metadata": {},
   "source": [
    "### Analyse par groupe :"
   ]
  },
  {
   "cell_type": "code",
   "execution_count": 84,
   "metadata": {},
   "outputs": [],
   "source": [
    "dict_group=hotels_features.groupby('group')"
   ]
  },
  {
   "cell_type": "code",
   "execution_count": 85,
   "metadata": {},
   "outputs": [
    {
     "data": {
      "text/plain": [
       "dict_keys(['Accar Hotels', 'Boss Western', 'Chillton Worldwide', 'Independant', 'Morriott International', 'Yin Yang'])"
      ]
     },
     "execution_count": 85,
     "metadata": {},
     "output_type": "execute_result"
    }
   ],
   "source": [
    "dict_group.groups.keys()"
   ]
  },
  {
   "cell_type": "code",
   "execution_count": 86,
   "metadata": {},
   "outputs": [
    {
     "data": {
      "text/plain": [
       "group\n",
       "Accar Hotels              194\n",
       "Boss Western              163\n",
       "Chillton Worldwide        103\n",
       "Independant               245\n",
       "Morriott International    128\n",
       "Yin Yang                  166\n",
       "Name: hotel_id, dtype: int64"
      ]
     },
     "execution_count": 86,
     "metadata": {},
     "output_type": "execute_result"
    }
   ],
   "source": [
    "dict_group.hotel_id.count()"
   ]
  },
  {
   "cell_type": "markdown",
   "metadata": {},
   "source": [
    "### Analyse par brand :"
   ]
  },
  {
   "cell_type": "code",
   "execution_count": 87,
   "metadata": {},
   "outputs": [],
   "source": [
    "dict_brand=hotels_features.groupby('brand')"
   ]
  },
  {
   "cell_type": "code",
   "execution_count": 88,
   "metadata": {},
   "outputs": [
    {
     "data": {
      "text/plain": [
       "dict_keys(['8 Premium', 'Ardisson', 'Boss Western', 'Chill Garden Inn', 'Corlton', 'CourtYord', 'Ibas', 'Independant', 'J.Halliday Inn', 'Marcure', 'Morriot', 'Navatel', 'Quadrupletree', 'Royal Lotus', 'Safitel', 'Tripletree'])"
      ]
     },
     "execution_count": 88,
     "metadata": {},
     "output_type": "execute_result"
    }
   ],
   "source": [
    "dict_brand.groups.keys()"
   ]
  },
  {
   "cell_type": "code",
   "execution_count": 89,
   "metadata": {},
   "outputs": [
    {
     "data": {
      "text/plain": [
       "brand\n",
       "8 Premium            52\n",
       "Ardisson             51\n",
       "Boss Western         87\n",
       "Chill Garden Inn     34\n",
       "Corlton              53\n",
       "CourtYord            33\n",
       "Ibas                 44\n",
       "Independant         245\n",
       "J.Halliday Inn       76\n",
       "Marcure              50\n",
       "Morriot              42\n",
       "Navatel              36\n",
       "Quadrupletree        36\n",
       "Royal Lotus          63\n",
       "Safitel              64\n",
       "Tripletree           33\n",
       "Name: hotel_id, dtype: int64"
      ]
     },
     "execution_count": 89,
     "metadata": {},
     "output_type": "execute_result"
    }
   ],
   "source": [
    "dict_brand.hotel_id.count()"
   ]
  }
 ],
 "metadata": {
  "kernelspec": {
   "display_name": "Python 3",
   "language": "python",
   "name": "python3"
  },
  "language_info": {
   "codemirror_mode": {
    "name": "ipython",
    "version": 3
   },
   "file_extension": ".py",
   "mimetype": "text/x-python",
   "name": "python",
   "nbconvert_exporter": "python",
   "pygments_lexer": "ipython3",
   "version": "3.7.6"
  }
 },
 "nbformat": 4,
 "nbformat_minor": 4
}
